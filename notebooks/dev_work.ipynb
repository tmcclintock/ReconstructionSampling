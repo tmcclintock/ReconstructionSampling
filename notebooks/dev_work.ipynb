{
 "cells": [
  {
   "cell_type": "code",
   "execution_count": 1,
   "metadata": {},
   "outputs": [],
   "source": [
    "import numpy as np\n",
    "import scipy.optimize as op\n",
    "import scipy.stats as ss\n",
    "import matplotlib.pyplot as plt\n",
    "%matplotlib inline"
   ]
  },
  {
   "cell_type": "code",
   "execution_count": 6,
   "metadata": {},
   "outputs": [
    {
     "data": {
      "text/plain": [
       "array([[0.09, 0.18],\n",
       "       [0.18, 4.  ]])"
      ]
     },
     "execution_count": 6,
     "metadata": {},
     "output_type": "execute_result"
    }
   ],
   "source": [
    "#Test which optimizers return the hessian automatically\n",
    "mu = np.array([0.1, 3])\n",
    "variances = np.array([0.3, 2.])**2\n",
    "corr = 0.3\n",
    "Sigma = np.diag(variances)\n",
    "Sigma[0, 1] = Sigma[1, 0] = corr * np.sqrt(variances.prod())\n",
    "Sigma"
   ]
  },
  {
   "cell_type": "code",
   "execution_count": 7,
   "metadata": {},
   "outputs": [],
   "source": [
    "# a posterior\n",
    "def neg_lnpost(x):\n",
    "    return -ss.multivariate_normal.logpdf(x, mean=mu, cov=Sigma)"
   ]
  },
  {
   "cell_type": "code",
   "execution_count": 8,
   "metadata": {},
   "outputs": [
    {
     "name": "stdout",
     "output_type": "stream",
     "text": [
      "      fun: 1.2798961029077345\n",
      " hess_inv: array([[0.09      , 0.18      ],\n",
      "       [0.18      , 4.00000013]])\n",
      "      jac: array([0.00000000e+00, 1.49011612e-08])\n",
      "  message: 'Optimization terminated successfully.'\n",
      "     nfev: 28\n",
      "      nit: 5\n",
      "     njev: 7\n",
      "   status: 0\n",
      "  success: True\n",
      "        x: array([0.09999999, 3.00000002])\n"
     ]
    }
   ],
   "source": [
    "result = op.minimize(neg_lnpost, x0=[0,0], method=\"BFGS\")\n",
    "print(result)"
   ]
  },
  {
   "cell_type": "code",
   "execution_count": null,
   "metadata": {},
   "outputs": [],
   "source": []
  }
 ],
 "metadata": {
  "kernelspec": {
   "display_name": "Python 3",
   "language": "python",
   "name": "python3"
  },
  "language_info": {
   "codemirror_mode": {
    "name": "ipython",
    "version": 3
   },
   "file_extension": ".py",
   "mimetype": "text/x-python",
   "name": "python",
   "nbconvert_exporter": "python",
   "pygments_lexer": "ipython3",
   "version": "3.7.3"
  }
 },
 "nbformat": 4,
 "nbformat_minor": 2
}
